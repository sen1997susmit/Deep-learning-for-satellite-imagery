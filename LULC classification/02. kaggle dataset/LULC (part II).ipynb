{
 "cells": [
  {
   "cell_type": "markdown",
   "id": "bc10df59",
   "metadata": {},
   "source": [
    "# Import required library"
   ]
  },
  {
   "cell_type": "code",
   "execution_count": null,
   "id": "b54e12a2",
   "metadata": {},
   "outputs": [],
   "source": [
    "import segmentation_models as sm\n",
    "from matplotlib import pyplot as plt\n",
    "import random\n",
    "\n",
    "from keras.models import load_model"
   ]
  },
  {
   "cell_type": "markdown",
   "id": "cb06a400",
   "metadata": {},
   "source": [
    "# Train model using segmentation_models library"
   ]
  },
  {
   "cell_type": "code",
   "execution_count": null,
   "id": "c8d09b37",
   "metadata": {},
   "outputs": [],
   "source": [
    "#TRY ANOTHE MODEL - WITH PRETRINED WEIGHTS\n",
    "#Resnet backbone\n",
    "BACKBONE = 'resnet34'\n",
    "preprocess_input = sm.get_preprocessing(BACKBONE)\n",
    "metrics=['accuracy', jacard_coef]\n",
    "\n",
    "# preprocess input\n",
    "X_train_prepr = preprocess_input(X_train)\n",
    "X_test_prepr = preprocess_input(X_test)\n",
    "\n",
    "# define model\n",
    "model_resnet_backbone = sm.Unet(BACKBONE, encoder_weights='imagenet', classes=n_classes, activation='softmax')\n",
    "\n",
    "# compile keras model with defined optimozer, loss and metrics\n",
    "#model_resnet_backbone.compile(optimizer='adam', loss=focal_loss, metrics=metrics)\n",
    "model_resnet_backbone.compile(optimizer='adam', loss='categorical_crossentropy', metrics=metrics)\n",
    "\n",
    "print(model_resnet_backbone.summary())\n",
    "\n",
    "\n",
    "history2=model_resnet_backbone.fit(X_train_prepr, \n",
    "          y_train,\n",
    "          batch_size=16, \n",
    "          epochs=100,\n",
    "          verbose=1,\n",
    "          validation_data=(X_test_prepr, y_test))"
   ]
  },
  {
   "cell_type": "code",
   "execution_count": null,
   "id": "4b78b003",
   "metadata": {},
   "outputs": [],
   "source": [
    "# load model\n",
    "from keras.models import load_model\n",
    "model = load_model(\"models/satellite_standard_unet_100epochs.hdf5\",\n",
    "                   custom_objects={'dice_loss_plus_2focal_loss': total_loss,\n",
    "                                   'jacard_coef':jacard_coef})"
   ]
  },
  {
   "cell_type": "code",
   "execution_count": null,
   "id": "0fdb94c9",
   "metadata": {},
   "outputs": [],
   "source": [
    "#IOU\n",
    "y_pred=model.predict(X_test)\n",
    "y_pred_argmax=np.argmax(y_pred, axis=3)\n",
    "y_test_argmax=np.argmax(y_test, axis=3)"
   ]
  },
  {
   "cell_type": "code",
   "execution_count": null,
   "id": "bb97d989",
   "metadata": {},
   "outputs": [],
   "source": [
    "#Using built in keras function for IoU\n",
    "from tensorflow.keras.metrics import MeanIoU\n",
    "n_classes = 6\n",
    "IOU_keras = MeanIoU(num_classes=n_classes)  \n",
    "IOU_keras.update_state(y_test_argmax, y_pred_argmax)\n",
    "print(\"Mean IoU =\", IOU_keras.result().numpy())"
   ]
  },
  {
   "cell_type": "markdown",
   "id": "b9f01524",
   "metadata": {},
   "source": [
    "# Check the result"
   ]
  },
  {
   "cell_type": "code",
   "execution_count": null,
   "id": "b54ee346",
   "metadata": {},
   "outputs": [],
   "source": [
    "import random\n",
    "test_img_number = random.randint(0, len(X_test))\n",
    "test_img = X_test[test_img_number]\n",
    "ground_truth=y_test_argmax[test_img_number]\n",
    "#test_img_norm=test_img[:,:,0][:,:,None]\n",
    "test_img_input=np.expand_dims(test_img, 0)\n",
    "prediction = (model.predict(test_img_input))\n",
    "predicted_img=np.argmax(prediction, axis=3)[0,:,:]\n",
    "\n",
    "\n",
    "plt.figure(figsize=(12, 8))\n",
    "plt.subplot(231)\n",
    "plt.title('Testing Image')\n",
    "plt.imshow(test_img)\n",
    "plt.subplot(232)\n",
    "plt.title('Testing Label')\n",
    "plt.imshow(ground_truth)\n",
    "plt.subplot(233)\n",
    "plt.title('Prediction on test image')\n",
    "plt.imshow(predicted_img)\n",
    "plt.show()"
   ]
  }
 ],
 "metadata": {
  "kernelspec": {
   "display_name": "Python 3",
   "language": "python",
   "name": "python3"
  },
  "language_info": {
   "codemirror_mode": {
    "name": "ipython",
    "version": 3
   },
   "file_extension": ".py",
   "mimetype": "text/x-python",
   "name": "python",
   "nbconvert_exporter": "python",
   "pygments_lexer": "ipython3",
   "version": "3.9.6"
  }
 },
 "nbformat": 4,
 "nbformat_minor": 5
}
